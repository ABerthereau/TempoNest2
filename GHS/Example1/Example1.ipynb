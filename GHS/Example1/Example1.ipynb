{
 "metadata": {
  "name": "Example1"
 },
 "nbformat": 3,
 "nbformat_minor": 0,
 "worksheets": [
  {
   "cells": [
    {
     "cell_type": "markdown",
     "metadata": {},
     "source": [
      "#Example 1 - Tutorial\n",
      "\n",
      "This Notebook explains a basic analysis analysis of the Example 1 data set.  This data set uses only a simple timing model, and a profile with no profile evolution.  The analysis steps we take will be:\n",
      "\n",
      "1. Load the data (par/tim/profiles)\n",
      "2. 'Fold' the whole data set in time in order to form an average profile\n",
      "3. Fit an initial guess to the average profile using this time averaged data set.\n",
      "4. Get an initial estimate of the overall phase offset\n",
      "5. Use these initial estimates to form the Hessian of the likelihood (required by the sampler)\n",
      "6. Perform some burnin\n",
      "7. Load the chains, and use the new maixmum likelihood point from that analysis to redefine the Hessian.\n",
      "8. Perform the actual sampling\n",
      "9. Check the results."
     ]
    },
    {
     "cell_type": "markdown",
     "metadata": {},
     "source": [
      "#Import And Initialise\n",
      "\n",
      "First initialise the code.  This takes a single argument (useGPUS).  Currently CPUs are only used for the preprocessing, all actual analysis requires a GPU."
     ]
    },
    {
     "cell_type": "code",
     "collapsed": false,
     "input": [
      "import numpy as np\n",
      "from Class import *\n",
      "\n",
      "lfunc = Likelihood(useGPU = True)\n"
     ],
     "language": "python",
     "metadata": {},
     "outputs": [],
     "prompt_number": 2
    },
    {
     "cell_type": "markdown",
     "metadata": {},
     "source": [
      "#Load The Data\n",
      "\n",
      "Next load the data.  We pass the par and tim file, where the filename for each ToA points to the archive from which that ToA came from.  We can specify the number of iterations (in this case 4), and whether or not to use the prefit values (default: usePreFit = False)"
     ]
    },
    {
     "cell_type": "code",
     "collapsed": false,
     "input": [
      "lfunc.loadPulsar(\"Example1.par\", \"Example1.tim\", root='./results/Example1-', iters=4)\n"
     ],
     "language": "python",
     "metadata": {},
     "outputs": [
      {
       "output_type": "stream",
       "stream": "stdout",
       "text": [
        "fitting for:  RAJ 4.5109149016 5.93075224007e-11\n",
        "fitting for:  DECJ 0.136026598136 1.14192252249e-10\n",
        "fitting for:  F0 218.811840441 1.05274318002e-13\n",
        "fitting for:  F1 -4.08421923104e-16 3.35822294316e-21\n",
        "fitting for:  DM 16.0000928696 8.41085119273e-05\n",
        "Loading Data: \n",
        "\r",
        "Percent: [----------] 0.0% "
       ]
      },
      {
       "output_type": "stream",
       "stream": "stdout",
       "text": [
        "\r",
        "Percent: [----------] 1.0% "
       ]
      },
      {
       "output_type": "stream",
       "stream": "stdout",
       "text": [
        "\r",
        "Percent: [----------] 2.0% "
       ]
      },
      {
       "output_type": "stream",
       "stream": "stdout",
       "text": [
        "\r",
        "Percent: [----------] 3.0% "
       ]
      },
      {
       "output_type": "stream",
       "stream": "stdout",
       "text": [
        "\r",
        "Percent: [----------] 4.0% "
       ]
      },
      {
       "output_type": "stream",
       "stream": "stdout",
       "text": [
        "\r",
        "Percent: [#---------] 5.0% "
       ]
      },
      {
       "output_type": "stream",
       "stream": "stdout",
       "text": [
        "\r",
        "Percent: [#---------] 6.0% "
       ]
      },
      {
       "output_type": "stream",
       "stream": "stdout",
       "text": [
        "\r",
        "Percent: [#---------] 7.0% "
       ]
      },
      {
       "output_type": "stream",
       "stream": "stdout",
       "text": [
        "\r",
        "Percent: [#---------] 8.0% "
       ]
      },
      {
       "output_type": "stream",
       "stream": "stdout",
       "text": [
        "\r",
        "Percent: [#---------] 9.0% "
       ]
      },
      {
       "output_type": "stream",
       "stream": "stdout",
       "text": [
        "\r",
        "Percent: [#---------] 10.0% "
       ]
      },
      {
       "output_type": "stream",
       "stream": "stdout",
       "text": [
        "\r",
        "Percent: [#---------] 11.0% "
       ]
      },
      {
       "output_type": "stream",
       "stream": "stdout",
       "text": [
        "\r",
        "Percent: [#---------] 12.0% "
       ]
      },
      {
       "output_type": "stream",
       "stream": "stdout",
       "text": [
        "\r",
        "Percent: [#---------] 13.0% "
       ]
      },
      {
       "output_type": "stream",
       "stream": "stdout",
       "text": [
        "\r",
        "Percent: [#---------] 14.0% "
       ]
      },
      {
       "output_type": "stream",
       "stream": "stdout",
       "text": [
        "\r",
        "Percent: [##--------] 15.0% "
       ]
      },
      {
       "output_type": "stream",
       "stream": "stdout",
       "text": [
        "\r",
        "Percent: [##--------] 16.0% "
       ]
      },
      {
       "output_type": "stream",
       "stream": "stdout",
       "text": [
        "\r",
        "Percent: [##--------] 17.0% "
       ]
      },
      {
       "output_type": "stream",
       "stream": "stdout",
       "text": [
        "\r",
        "Percent: [##--------] 18.0% "
       ]
      },
      {
       "output_type": "stream",
       "stream": "stdout",
       "text": [
        "\r",
        "Percent: [##--------] 19.0% "
       ]
      },
      {
       "output_type": "stream",
       "stream": "stdout",
       "text": [
        "\r",
        "Percent: [##--------] 20.0% "
       ]
      },
      {
       "output_type": "stream",
       "stream": "stdout",
       "text": [
        "\r",
        "Percent: [##--------] 21.0% "
       ]
      },
      {
       "output_type": "stream",
       "stream": "stdout",
       "text": [
        "\r",
        "Percent: [##--------] 22.0% "
       ]
      },
      {
       "output_type": "stream",
       "stream": "stdout",
       "text": [
        "\r",
        "Percent: [##--------] 23.0% "
       ]
      },
      {
       "output_type": "stream",
       "stream": "stdout",
       "text": [
        "\r",
        "Percent: [##--------] 24.0% "
       ]
      },
      {
       "output_type": "stream",
       "stream": "stdout",
       "text": [
        "\r",
        "Percent: [###-------] 25.0% "
       ]
      },
      {
       "output_type": "stream",
       "stream": "stdout",
       "text": [
        "\r",
        "Percent: [###-------] 26.0% "
       ]
      },
      {
       "output_type": "stream",
       "stream": "stdout",
       "text": [
        "\r",
        "Percent: [###-------] 27.0% "
       ]
      },
      {
       "output_type": "stream",
       "stream": "stdout",
       "text": [
        "\r",
        "Percent: [###-------] 28.0% "
       ]
      },
      {
       "output_type": "stream",
       "stream": "stdout",
       "text": [
        "\r",
        "Percent: [###-------] 29.0% "
       ]
      },
      {
       "output_type": "stream",
       "stream": "stdout",
       "text": [
        "\r",
        "Percent: [###-------] 30.0% "
       ]
      },
      {
       "output_type": "stream",
       "stream": "stdout",
       "text": [
        "\r",
        "Percent: [###-------] 31.0% "
       ]
      },
      {
       "output_type": "stream",
       "stream": "stdout",
       "text": [
        "\r",
        "Percent: [###-------] 32.0% "
       ]
      },
      {
       "output_type": "stream",
       "stream": "stdout",
       "text": [
        "\r",
        "Percent: [###-------] 33.0% "
       ]
      },
      {
       "output_type": "stream",
       "stream": "stdout",
       "text": [
        "\r",
        "Percent: [###-------] 34.0% "
       ]
      },
      {
       "output_type": "stream",
       "stream": "stdout",
       "text": [
        "\r",
        "Percent: [####------] 35.0% "
       ]
      },
      {
       "output_type": "stream",
       "stream": "stdout",
       "text": [
        "\r",
        "Percent: [####------] 36.0% "
       ]
      },
      {
       "output_type": "stream",
       "stream": "stdout",
       "text": [
        "\r",
        "Percent: [####------] 37.0% "
       ]
      },
      {
       "output_type": "stream",
       "stream": "stdout",
       "text": [
        "\r",
        "Percent: [####------] 38.0% "
       ]
      },
      {
       "output_type": "stream",
       "stream": "stdout",
       "text": [
        "\r",
        "Percent: [####------] 39.0% "
       ]
      },
      {
       "output_type": "stream",
       "stream": "stdout",
       "text": [
        "\r",
        "Percent: [####------] 40.0% "
       ]
      },
      {
       "output_type": "stream",
       "stream": "stdout",
       "text": [
        "\r",
        "Percent: [####------] 41.0% "
       ]
      },
      {
       "output_type": "stream",
       "stream": "stdout",
       "text": [
        "\r",
        "Percent: [####------] 42.0% "
       ]
      },
      {
       "output_type": "stream",
       "stream": "stdout",
       "text": [
        "\r",
        "Percent: [####------] 43.0% "
       ]
      },
      {
       "output_type": "stream",
       "stream": "stdout",
       "text": [
        "\r",
        "Percent: [####------] 44.0% "
       ]
      },
      {
       "output_type": "stream",
       "stream": "stdout",
       "text": [
        "\r",
        "Percent: [#####-----] 45.0% "
       ]
      },
      {
       "output_type": "stream",
       "stream": "stdout",
       "text": [
        "\r",
        "Percent: [#####-----] 46.0% "
       ]
      },
      {
       "output_type": "stream",
       "stream": "stdout",
       "text": [
        "\r",
        "Percent: [#####-----] 47.0% "
       ]
      },
      {
       "output_type": "stream",
       "stream": "stdout",
       "text": [
        "\r",
        "Percent: [#####-----] 48.0% "
       ]
      },
      {
       "output_type": "stream",
       "stream": "stdout",
       "text": [
        "\r",
        "Percent: [#####-----] 49.0% "
       ]
      },
      {
       "output_type": "stream",
       "stream": "stdout",
       "text": [
        "\r",
        "Percent: [#####-----] 50.0% "
       ]
      },
      {
       "output_type": "stream",
       "stream": "stdout",
       "text": [
        "\r",
        "Percent: [#####-----] 51.0% "
       ]
      },
      {
       "output_type": "stream",
       "stream": "stdout",
       "text": [
        "\r",
        "Percent: [#####-----] 52.0% "
       ]
      },
      {
       "output_type": "stream",
       "stream": "stdout",
       "text": [
        "\r",
        "Percent: [#####-----] 53.0% "
       ]
      },
      {
       "output_type": "stream",
       "stream": "stdout",
       "text": [
        "\r",
        "Percent: [#####-----] 54.0% "
       ]
      },
      {
       "output_type": "stream",
       "stream": "stdout",
       "text": [
        "\r",
        "Percent: [######----] 55.0% "
       ]
      },
      {
       "output_type": "stream",
       "stream": "stdout",
       "text": [
        "\r",
        "Percent: [######----] 56.0% "
       ]
      },
      {
       "output_type": "stream",
       "stream": "stdout",
       "text": [
        "\r",
        "Percent: [######----] 57.0% "
       ]
      },
      {
       "output_type": "stream",
       "stream": "stdout",
       "text": [
        "\r",
        "Percent: [######----] 58.0% "
       ]
      },
      {
       "output_type": "stream",
       "stream": "stdout",
       "text": [
        "\r",
        "Percent: [######----] 59.0% "
       ]
      },
      {
       "output_type": "stream",
       "stream": "stdout",
       "text": [
        "\r",
        "Percent: [######----] 60.0% "
       ]
      },
      {
       "output_type": "stream",
       "stream": "stdout",
       "text": [
        "\r",
        "Percent: [######----] 61.0% "
       ]
      },
      {
       "output_type": "stream",
       "stream": "stdout",
       "text": [
        "\r",
        "Percent: [######----] 62.0% "
       ]
      },
      {
       "output_type": "stream",
       "stream": "stdout",
       "text": [
        "\r",
        "Percent: [######----] 63.0% "
       ]
      },
      {
       "output_type": "stream",
       "stream": "stdout",
       "text": [
        "\r",
        "Percent: [######----] 64.0% "
       ]
      },
      {
       "output_type": "stream",
       "stream": "stdout",
       "text": [
        "\r",
        "Percent: [#######---] 65.0% "
       ]
      },
      {
       "output_type": "stream",
       "stream": "stdout",
       "text": [
        "\r",
        "Percent: [#######---] 66.0% "
       ]
      },
      {
       "output_type": "stream",
       "stream": "stdout",
       "text": [
        "\r",
        "Percent: [#######---] 67.0% "
       ]
      },
      {
       "output_type": "stream",
       "stream": "stdout",
       "text": [
        "\r",
        "Percent: [#######---] 68.0% "
       ]
      },
      {
       "output_type": "stream",
       "stream": "stdout",
       "text": [
        "\r",
        "Percent: [#######---] 69.0% "
       ]
      },
      {
       "output_type": "stream",
       "stream": "stdout",
       "text": [
        "\r",
        "Percent: [#######---] 70.0% "
       ]
      },
      {
       "output_type": "stream",
       "stream": "stdout",
       "text": [
        "\r",
        "Percent: [#######---] 71.0% "
       ]
      },
      {
       "output_type": "stream",
       "stream": "stdout",
       "text": [
        "\r",
        "Percent: [#######---] 72.0% "
       ]
      },
      {
       "output_type": "stream",
       "stream": "stdout",
       "text": [
        "\r",
        "Percent: [#######---] 73.0% "
       ]
      },
      {
       "output_type": "stream",
       "stream": "stdout",
       "text": [
        "\r",
        "Percent: [#######---] 74.0% "
       ]
      },
      {
       "output_type": "stream",
       "stream": "stdout",
       "text": [
        "\r",
        "Percent: [########--] 75.0% "
       ]
      },
      {
       "output_type": "stream",
       "stream": "stdout",
       "text": [
        "\r",
        "Percent: [########--] 76.0% "
       ]
      },
      {
       "output_type": "stream",
       "stream": "stdout",
       "text": [
        "\r",
        "Percent: [########--] 77.0% "
       ]
      },
      {
       "output_type": "stream",
       "stream": "stdout",
       "text": [
        "\r",
        "Percent: [########--] 78.0% "
       ]
      },
      {
       "output_type": "stream",
       "stream": "stdout",
       "text": [
        "\r",
        "Percent: [########--] 79.0% "
       ]
      },
      {
       "output_type": "stream",
       "stream": "stdout",
       "text": [
        "\r",
        "Percent: [########--] 80.0% "
       ]
      },
      {
       "output_type": "stream",
       "stream": "stdout",
       "text": [
        "\r",
        "Percent: [########--] 81.0% "
       ]
      },
      {
       "output_type": "stream",
       "stream": "stdout",
       "text": [
        "\r",
        "Percent: [########--] 82.0% "
       ]
      },
      {
       "output_type": "stream",
       "stream": "stdout",
       "text": [
        "\r",
        "Percent: [########--] 83.0% "
       ]
      },
      {
       "output_type": "stream",
       "stream": "stdout",
       "text": [
        "\r",
        "Percent: [########--] 84.0% "
       ]
      },
      {
       "output_type": "stream",
       "stream": "stdout",
       "text": [
        "\r",
        "Percent: [#########-] 85.0% "
       ]
      },
      {
       "output_type": "stream",
       "stream": "stdout",
       "text": [
        "\r",
        "Percent: [#########-] 86.0% "
       ]
      },
      {
       "output_type": "stream",
       "stream": "stdout",
       "text": [
        "\r",
        "Percent: [#########-] 87.0% "
       ]
      },
      {
       "output_type": "stream",
       "stream": "stdout",
       "text": [
        "\r",
        "Percent: [#########-] 88.0% "
       ]
      },
      {
       "output_type": "stream",
       "stream": "stdout",
       "text": [
        "\r",
        "Percent: [#########-] 89.0% "
       ]
      },
      {
       "output_type": "stream",
       "stream": "stdout",
       "text": [
        "\r",
        "Percent: [#########-] 90.0% "
       ]
      },
      {
       "output_type": "stream",
       "stream": "stdout",
       "text": [
        "\r",
        "Percent: [#########-] 91.0% "
       ]
      },
      {
       "output_type": "stream",
       "stream": "stdout",
       "text": [
        "\r",
        "Percent: [#########-] 92.0% "
       ]
      },
      {
       "output_type": "stream",
       "stream": "stdout",
       "text": [
        "\r",
        "Percent: [#########-] 93.0% "
       ]
      },
      {
       "output_type": "stream",
       "stream": "stdout",
       "text": [
        "\r",
        "Percent: [#########-] 94.0% "
       ]
      },
      {
       "output_type": "stream",
       "stream": "stdout",
       "text": [
        "\r",
        "Percent: [##########] 95.0% "
       ]
      },
      {
       "output_type": "stream",
       "stream": "stdout",
       "text": [
        "\r",
        "Percent: [##########] 96.0% "
       ]
      },
      {
       "output_type": "stream",
       "stream": "stdout",
       "text": [
        "\r",
        "Percent: [##########] 97.0% "
       ]
      },
      {
       "output_type": "stream",
       "stream": "stdout",
       "text": [
        "\r",
        "Percent: [##########] 98.0% "
       ]
      },
      {
       "output_type": "stream",
       "stream": "stdout",
       "text": [
        "\r",
        "Percent: [##########] 99.0% "
       ]
      }
     ],
     "prompt_number": 3
    },
    {
     "cell_type": "markdown",
     "metadata": {},
     "source": [
      "#Time Average The Profile Data\n",
      "\n",
      "Next we average the data.  Currently there are two ways to do this.  \n",
      "\n",
      "Firstly we can use the timing model from the previous fit to align the profiles (FromTM = True), or we can use PSRCHIVEs default centering to perform the alignment (FromTM = False).  The former is better unless the timing model fit is tragic.  \n",
      "\n",
      "We can split the data up into specific frequency ranges in several ways: \n",
      "\n",
      "i) providing a number of channels, \n",
      "ii) providing a set of frequency ranges (e.g. FreqRange=[[0, 900], [900, 1800], [1800,4000]]), or \n",
      "iii) providing a channel width (ChanSep = 1).  \n",
      "\n",
      "Finally we can plot the scrunched archive(s) using doplot=True."
     ]
    },
    {
     "cell_type": "code",
     "collapsed": false,
     "input": [
      "lfunc.TScrunch(doplot = True, channels = 1, FromPickle = False, FromTM = True)\n"
     ],
     "language": "python",
     "metadata": {},
     "outputs": [
      {
       "output_type": "stream",
       "stream": "stdout",
       "text": [
        "\n",
        "Averaging All Data In Time: \n",
        "\r",
        "Percent: [----------] 0.0% "
       ]
      },
      {
       "output_type": "stream",
       "stream": "stdout",
       "text": [
        "\r",
        "Percent: [----------] 1.0% "
       ]
      },
      {
       "output_type": "stream",
       "stream": "stdout",
       "text": [
        "\r",
        "Percent: [----------] 2.0% "
       ]
      },
      {
       "output_type": "stream",
       "stream": "stdout",
       "text": [
        "\r",
        "Percent: [----------] 3.0% "
       ]
      },
      {
       "output_type": "stream",
       "stream": "stdout",
       "text": [
        "\r",
        "Percent: [----------] 4.0% "
       ]
      },
      {
       "output_type": "stream",
       "stream": "stdout",
       "text": [
        "\r",
        "Percent: [#---------] 5.0% "
       ]
      },
      {
       "output_type": "stream",
       "stream": "stdout",
       "text": [
        "\r",
        "Percent: [#---------] 6.0% "
       ]
      },
      {
       "output_type": "stream",
       "stream": "stdout",
       "text": [
        "\r",
        "Percent: [#---------] 7.0% "
       ]
      },
      {
       "output_type": "stream",
       "stream": "stdout",
       "text": [
        "\r",
        "Percent: [#---------] 8.0% "
       ]
      },
      {
       "output_type": "stream",
       "stream": "stdout",
       "text": [
        "\r",
        "Percent: [#---------] 9.0% "
       ]
      },
      {
       "output_type": "stream",
       "stream": "stdout",
       "text": [
        "\r",
        "Percent: [#---------] 10.0% "
       ]
      },
      {
       "output_type": "stream",
       "stream": "stdout",
       "text": [
        "\r",
        "Percent: [#---------] 11.0% "
       ]
      },
      {
       "output_type": "stream",
       "stream": "stdout",
       "text": [
        "\r",
        "Percent: [#---------] 12.0% "
       ]
      },
      {
       "output_type": "stream",
       "stream": "stdout",
       "text": [
        "\r",
        "Percent: [#---------] 13.0% "
       ]
      },
      {
       "output_type": "stream",
       "stream": "stdout",
       "text": [
        "\r",
        "Percent: [#---------] 14.0% "
       ]
      },
      {
       "output_type": "stream",
       "stream": "stdout",
       "text": [
        "\r",
        "Percent: [##--------] 15.0% "
       ]
      },
      {
       "output_type": "stream",
       "stream": "stdout",
       "text": [
        "\r",
        "Percent: [##--------] 16.0% "
       ]
      },
      {
       "output_type": "stream",
       "stream": "stdout",
       "text": [
        "\r",
        "Percent: [##--------] 17.0% "
       ]
      },
      {
       "output_type": "stream",
       "stream": "stdout",
       "text": [
        "\r",
        "Percent: [##--------] 18.0% "
       ]
      },
      {
       "output_type": "stream",
       "stream": "stdout",
       "text": [
        "\r",
        "Percent: [##--------] 19.0% "
       ]
      },
      {
       "output_type": "stream",
       "stream": "stdout",
       "text": [
        "\r",
        "Percent: [##--------] 20.0% "
       ]
      },
      {
       "output_type": "stream",
       "stream": "stdout",
       "text": [
        "\r",
        "Percent: [##--------] 21.0% "
       ]
      },
      {
       "output_type": "stream",
       "stream": "stdout",
       "text": [
        "\r",
        "Percent: [##--------] 22.0% "
       ]
      },
      {
       "output_type": "stream",
       "stream": "stdout",
       "text": [
        "\r",
        "Percent: [##--------] 23.0% "
       ]
      },
      {
       "output_type": "stream",
       "stream": "stdout",
       "text": [
        "\r",
        "Percent: [##--------] 24.0% "
       ]
      },
      {
       "output_type": "stream",
       "stream": "stdout",
       "text": [
        "\r",
        "Percent: [###-------] 25.0% "
       ]
      },
      {
       "output_type": "stream",
       "stream": "stdout",
       "text": [
        "\r",
        "Percent: [###-------] 26.0% "
       ]
      },
      {
       "output_type": "stream",
       "stream": "stdout",
       "text": [
        "\r",
        "Percent: [###-------] 27.0% "
       ]
      },
      {
       "output_type": "stream",
       "stream": "stdout",
       "text": [
        "\r",
        "Percent: [###-------] 28.0% "
       ]
      },
      {
       "output_type": "stream",
       "stream": "stdout",
       "text": [
        "\r",
        "Percent: [###-------] 29.0% "
       ]
      },
      {
       "output_type": "stream",
       "stream": "stdout",
       "text": [
        "\r",
        "Percent: [###-------] 30.0% "
       ]
      },
      {
       "output_type": "stream",
       "stream": "stdout",
       "text": [
        "\r",
        "Percent: [###-------] 31.0% "
       ]
      },
      {
       "output_type": "stream",
       "stream": "stdout",
       "text": [
        "\r",
        "Percent: [###-------] 32.0% "
       ]
      },
      {
       "output_type": "stream",
       "stream": "stdout",
       "text": [
        "\r",
        "Percent: [###-------] 33.0% "
       ]
      },
      {
       "output_type": "stream",
       "stream": "stdout",
       "text": [
        "\r",
        "Percent: [###-------] 34.0% "
       ]
      },
      {
       "output_type": "stream",
       "stream": "stdout",
       "text": [
        "\r",
        "Percent: [####------] 35.0% "
       ]
      },
      {
       "output_type": "stream",
       "stream": "stdout",
       "text": [
        "\r",
        "Percent: [####------] 36.0% "
       ]
      },
      {
       "output_type": "stream",
       "stream": "stdout",
       "text": [
        "\r",
        "Percent: [####------] 37.0% "
       ]
      },
      {
       "output_type": "stream",
       "stream": "stdout",
       "text": [
        "\r",
        "Percent: [####------] 38.0% "
       ]
      },
      {
       "output_type": "stream",
       "stream": "stdout",
       "text": [
        "\r",
        "Percent: [####------] 39.0% "
       ]
      },
      {
       "output_type": "stream",
       "stream": "stdout",
       "text": [
        "\r",
        "Percent: [####------] 40.0% "
       ]
      },
      {
       "output_type": "stream",
       "stream": "stdout",
       "text": [
        "\r",
        "Percent: [####------] 41.0% "
       ]
      },
      {
       "output_type": "stream",
       "stream": "stdout",
       "text": [
        "\r",
        "Percent: [####------] 42.0% "
       ]
      },
      {
       "output_type": "stream",
       "stream": "stdout",
       "text": [
        "\r",
        "Percent: [####------] 43.0% "
       ]
      },
      {
       "output_type": "stream",
       "stream": "stdout",
       "text": [
        "\r",
        "Percent: [####------] 44.0% "
       ]
      },
      {
       "output_type": "stream",
       "stream": "stdout",
       "text": [
        "\r",
        "Percent: [#####-----] 45.0% "
       ]
      },
      {
       "output_type": "stream",
       "stream": "stdout",
       "text": [
        "\r",
        "Percent: [#####-----] 46.0% "
       ]
      },
      {
       "output_type": "stream",
       "stream": "stdout",
       "text": [
        "\r",
        "Percent: [#####-----] 47.0% "
       ]
      },
      {
       "output_type": "stream",
       "stream": "stdout",
       "text": [
        "\r",
        "Percent: [#####-----] 48.0% "
       ]
      },
      {
       "output_type": "stream",
       "stream": "stdout",
       "text": [
        "\r",
        "Percent: [#####-----] 49.0% "
       ]
      },
      {
       "output_type": "stream",
       "stream": "stdout",
       "text": [
        "\r",
        "Percent: [#####-----] 50.0% "
       ]
      },
      {
       "output_type": "stream",
       "stream": "stdout",
       "text": [
        "\r",
        "Percent: [#####-----] 51.0% "
       ]
      },
      {
       "output_type": "stream",
       "stream": "stdout",
       "text": [
        "\r",
        "Percent: [#####-----] 52.0% "
       ]
      },
      {
       "output_type": "stream",
       "stream": "stdout",
       "text": [
        "\r",
        "Percent: [#####-----] 53.0% "
       ]
      },
      {
       "output_type": "stream",
       "stream": "stdout",
       "text": [
        "\r",
        "Percent: [#####-----] 54.0% "
       ]
      },
      {
       "output_type": "stream",
       "stream": "stdout",
       "text": [
        "\r",
        "Percent: [######----] 55.0% "
       ]
      },
      {
       "output_type": "stream",
       "stream": "stdout",
       "text": [
        "\r",
        "Percent: [######----] 56.0% "
       ]
      },
      {
       "output_type": "stream",
       "stream": "stdout",
       "text": [
        "\r",
        "Percent: [######----] 57.0% "
       ]
      },
      {
       "output_type": "stream",
       "stream": "stdout",
       "text": [
        "\r",
        "Percent: [######----] 58.0% "
       ]
      },
      {
       "output_type": "stream",
       "stream": "stdout",
       "text": [
        "\r",
        "Percent: [######----] 59.0% "
       ]
      },
      {
       "output_type": "stream",
       "stream": "stdout",
       "text": [
        "\r",
        "Percent: [######----] 60.0% "
       ]
      },
      {
       "output_type": "stream",
       "stream": "stdout",
       "text": [
        "\r",
        "Percent: [######----] 61.0% "
       ]
      },
      {
       "output_type": "stream",
       "stream": "stdout",
       "text": [
        "\r",
        "Percent: [######----] 62.0% "
       ]
      },
      {
       "output_type": "stream",
       "stream": "stdout",
       "text": [
        "\r",
        "Percent: [######----] 63.0% "
       ]
      },
      {
       "output_type": "stream",
       "stream": "stdout",
       "text": [
        "\r",
        "Percent: [######----] 64.0% "
       ]
      },
      {
       "output_type": "stream",
       "stream": "stdout",
       "text": [
        "\r",
        "Percent: [#######---] 65.0% "
       ]
      },
      {
       "output_type": "stream",
       "stream": "stdout",
       "text": [
        "\r",
        "Percent: [#######---] 66.0% "
       ]
      },
      {
       "output_type": "stream",
       "stream": "stdout",
       "text": [
        "\r",
        "Percent: [#######---] 67.0% "
       ]
      },
      {
       "output_type": "stream",
       "stream": "stdout",
       "text": [
        "\r",
        "Percent: [#######---] 68.0% "
       ]
      },
      {
       "output_type": "stream",
       "stream": "stdout",
       "text": [
        "\r",
        "Percent: [#######---] 69.0% "
       ]
      },
      {
       "output_type": "stream",
       "stream": "stdout",
       "text": [
        "\r",
        "Percent: [#######---] 70.0% "
       ]
      },
      {
       "output_type": "stream",
       "stream": "stdout",
       "text": [
        "\r",
        "Percent: [#######---] 71.0% "
       ]
      },
      {
       "output_type": "stream",
       "stream": "stdout",
       "text": [
        "\r",
        "Percent: [#######---] 72.0% "
       ]
      },
      {
       "output_type": "stream",
       "stream": "stdout",
       "text": [
        "\r",
        "Percent: [#######---] 73.0% "
       ]
      },
      {
       "output_type": "stream",
       "stream": "stdout",
       "text": [
        "\r",
        "Percent: [#######---] 74.0% "
       ]
      },
      {
       "output_type": "stream",
       "stream": "stdout",
       "text": [
        "\r",
        "Percent: [########--] 75.0% "
       ]
      },
      {
       "output_type": "stream",
       "stream": "stdout",
       "text": [
        "\r",
        "Percent: [########--] 76.0% "
       ]
      },
      {
       "output_type": "stream",
       "stream": "stdout",
       "text": [
        "\r",
        "Percent: [########--] 77.0% "
       ]
      },
      {
       "output_type": "stream",
       "stream": "stdout",
       "text": [
        "\r",
        "Percent: [########--] 78.0% "
       ]
      },
      {
       "output_type": "stream",
       "stream": "stdout",
       "text": [
        "\r",
        "Percent: [########--] 79.0% "
       ]
      },
      {
       "output_type": "stream",
       "stream": "stdout",
       "text": [
        "\r",
        "Percent: [########--] 80.0% "
       ]
      },
      {
       "output_type": "stream",
       "stream": "stdout",
       "text": [
        "\r",
        "Percent: [########--] 81.0% "
       ]
      },
      {
       "output_type": "stream",
       "stream": "stdout",
       "text": [
        "\r",
        "Percent: [########--] 82.0% "
       ]
      },
      {
       "output_type": "stream",
       "stream": "stdout",
       "text": [
        "\r",
        "Percent: [########--] 83.0% "
       ]
      },
      {
       "output_type": "stream",
       "stream": "stdout",
       "text": [
        "\r",
        "Percent: [########--] 84.0% "
       ]
      },
      {
       "output_type": "stream",
       "stream": "stdout",
       "text": [
        "\r",
        "Percent: [#########-] 85.0% "
       ]
      },
      {
       "output_type": "stream",
       "stream": "stdout",
       "text": [
        "\r",
        "Percent: [#########-] 86.0% "
       ]
      },
      {
       "output_type": "stream",
       "stream": "stdout",
       "text": [
        "\r",
        "Percent: [#########-] 87.0% "
       ]
      },
      {
       "output_type": "stream",
       "stream": "stdout",
       "text": [
        "\r",
        "Percent: [#########-] 88.0% "
       ]
      },
      {
       "output_type": "stream",
       "stream": "stdout",
       "text": [
        "\r",
        "Percent: [#########-] 89.0% "
       ]
      },
      {
       "output_type": "stream",
       "stream": "stdout",
       "text": [
        "\r",
        "Percent: [#########-] 90.0% "
       ]
      },
      {
       "output_type": "stream",
       "stream": "stdout",
       "text": [
        "\r",
        "Percent: [#########-] 91.0% "
       ]
      },
      {
       "output_type": "stream",
       "stream": "stdout",
       "text": [
        "\r",
        "Percent: [#########-] 92.0% "
       ]
      },
      {
       "output_type": "stream",
       "stream": "stdout",
       "text": [
        "\r",
        "Percent: [#########-] 93.0% "
       ]
      },
      {
       "output_type": "stream",
       "stream": "stdout",
       "text": [
        "\r",
        "Percent: [#########-] 94.0% "
       ]
      },
      {
       "output_type": "stream",
       "stream": "stdout",
       "text": [
        "\r",
        "Percent: [##########] 95.0% "
       ]
      },
      {
       "output_type": "stream",
       "stream": "stdout",
       "text": [
        "\r",
        "Percent: [##########] 96.0% "
       ]
      },
      {
       "output_type": "stream",
       "stream": "stdout",
       "text": [
        "\r",
        "Percent: [##########] 97.0% "
       ]
      },
      {
       "output_type": "stream",
       "stream": "stdout",
       "text": [
        "\r",
        "Percent: [##########] 98.0% "
       ]
      },
      {
       "output_type": "stream",
       "stream": "stdout",
       "text": [
        "\r",
        "Percent: [##########] 99.0% "
       ]
      }
     ],
     "prompt_number": 4
    },
    {
     "cell_type": "markdown",
     "metadata": {},
     "source": [
      "#Get Initial Profile Model\n",
      "\n",
      "We can now perform an analysis of the scrunched data to get an initial estimate of the mean profile model.  This function has quite a few arguments which we will outline below:\n",
      "\n",
      "* fitNComps = 1 - The number of components in the profile model (note this is not the same thing as the number of shapelets in each profile)\n",
      "* doplot = False\n",
      "* RFreq = 1368.39677601\n",
      "* polyorder = 0"
     ]
    },
    {
     "cell_type": "code",
     "collapsed": false,
     "input": [
      "#lfunc.getInitialParams(pmin = [-0.5, -0.0942543012064768759, -1.5512017954266943, -1.5151222492461156, 0, 0], pmax = [0.5,  -0.0942543012064768759, -1.5512017954266943, -1.5151222492461156, 0.1, 0.1], MaxCoeff = 100, resume=True, outDir = './InitFFTMNChains/Example1-2c-', sampler='multinest', incScattering = False, mn_live = 1000,  fitNComps = 2, doplot = False)\n",
      "lfunc.getInitialParams(pmin = [-0.5, -2, 0], pmax = [0.5, -1, 2], MaxCoeff = 100, resume=True, outDir = './InitFFTMNChains/Example1-1C-', sampler='multinest', incScattering = False, mn_live = 1000,  fitNComps = 1, doplot = False)\n"
     ],
     "language": "python",
     "metadata": {},
     "outputs": []
    },
    {
     "cell_type": "markdown",
     "metadata": {},
     "source": [
      "#Precompute Shapelet Interpolation Matrix\n",
      "\n",
      "Given that maximum likelihood model we can use the width to precompute a matrix of basis vectors that can be interpolated lated.  The interpolation time provided is in nanoseconds, a value of ~1 should be sufficient for most applications.  "
     ]
    },
    {
     "cell_type": "code",
     "collapsed": false,
     "input": [
      "lfunc.PreComputeFFTShapelets(interpTime = 2, MeanBeta = lfunc.MeanBeta, doplot=False)"
     ],
     "language": "python",
     "metadata": {},
     "outputs": []
    },
    {
     "cell_type": "markdown",
     "metadata": {},
     "source": [
      "#Get Initial Phase Estimate\n",
      "\n",
      "Finally we can estimate the maximum likelihood phase offset for the dataset. We obtain the barycentering for the phase offset by shifting the SATs by the correct amount."
     ]
    },
    {
     "cell_type": "code",
     "collapsed": false,
     "input": [
      "lfunc.getInitialPhase(doplot = False, FromPickle = False)\n",
      "lfunc.ShiftSats(1-lfunc.MeanPhase)\n",
      "lfunc.MeanPhase = 0"
     ],
     "language": "python",
     "metadata": {},
     "outputs": []
    },
    {
     "cell_type": "markdown",
     "metadata": {},
     "source": [
      "#Setup The Model\n",
      "\n",
      "to do: make initialisation of arrays a function.  \n",
      "\n",
      "Parameters are added to the model using the \"addX\" functions, where 'X\" is the parameter in question.  Each parameter can be passed a maximum likelihood set of values, otherwise they are determined in some fashion automatically.  Each parameter can also be fit for, or fixed at the values provided/calculated.  \n",
      "\n",
      "In this case we add : \n",
      "\n",
      "1. The instrument noise in the profile data, \n",
      "2. The amplitudes of the individual profiles, \n",
      "3. The phase offset, \n",
      "4. The linear timing model, \n",
      "5. The profile model."
     ]
    },
    {
     "cell_type": "code",
     "collapsed": false,
     "input": [
      "lfunc.DenseParams = 0\t\n",
      "lfunc.DiagParams = 0\n",
      "lfunc.LinearParams = 0\n",
      "lfunc.MLParameters = []\n",
      "lfunc.parameters = []\n",
      "lfunc.ParametersToWrite = []\n",
      "lfunc.ParamDict = {}\n",
      "\n",
      "lfunc.addPNoise(Fit = True, write=True)\n",
      "lfunc.addPAmps(Fit = True, Dense=False, write=True)\n",
      "lfunc.addPhase(Fit = True, ML=np.array([0]))\n",
      "lfunc.addLinearTM(Fit = True)\n",
      "lfunc.addProfile(Fit = True, ML = lfunc.MLShapeCoeff[1:,0].flatten())\n"
     ],
     "language": "python",
     "metadata": {},
     "outputs": []
    },
    {
     "cell_type": "markdown",
     "metadata": {},
     "source": [
      "#Compute the Hessian\n",
      "\n",
      "We can now compute the hessian given the start point provided.  It has a single parameter, which specifies whether to return the full dense hessian, or only the diagonal elements.  To do: streamline this a bit"
     ]
    },
    {
     "cell_type": "code",
     "collapsed": false,
     "input": [
      "lfunc.n_params=len(lfunc.parameters)\n",
      "lfunc.PhasePrior = 1e-1\n",
      "lfunc.MeanPhase = 0\n",
      "lfunc.startPoint, lfunc.EigV, lfunc.EigM, lfunc.hess = lfunc.calculateGHSHessian(diagonalGHS=False)\n"
     ],
     "language": "python",
     "metadata": {},
     "outputs": []
    },
    {
     "cell_type": "markdown",
     "metadata": {},
     "source": [
      "#Perform Initial Sampling and Burnin\n",
      "\n",
      "We can now perform some initial sampling.  We just get a few samples (200) to get a better start point.  The marginalised profile model can be substantially different to the initial parameters owing to the covariance with overall phase.  We therefore iterate the burnin recomputing the hessian each time as we move towards the marginalised parameters.\n",
      "\n",
      "Todo: perform constrained maximum likelihood fit to minimise the amount of phase offset in the profile model in order to speed up burnin."
     ]
    },
    {
     "cell_type": "code",
     "collapsed": false,
     "input": [
      "lfunc.root='./results/Example1-burn-'\n",
      "if(lfunc.DiagParams < lfunc.n_params):\n",
      "\tDenseParams = lfunc.startPoint[lfunc.DiagParams:]\n",
      "\tPrincipleParams = np.dot(lfunc.EigM.T, DenseParams)\n",
      "\tlfunc.startPoint[lfunc.DiagParams:] = PrincipleParams\n",
      "\t\n",
      "lfunc.callGHS(resume=False, nburn = 100, nsamp = 200, feedback_int = 100, seed = -1, max_steps = 10, dim_scale_fact = 0.4)\n",
      "\n",
      "for i in range(20):\n",
      "\tchains=np.loadtxt('./results/Example1-burn-extract.dat').T\n",
      "\tML = chains.T[-10:][np.argmax(chains[-1][-10:])][:-1]\n",
      "\t\t\n",
      "\toffset= 2*lfunc.NToAs\n",
      "\tlfunc.DenseParams = 0\t\n",
      "\tlfunc.DiagParams = 0\n",
      "\tlfunc.LinearParams = 0\n",
      "\tlfunc.MLParameters = []\n",
      "\tlfunc.parameters = []\n",
      "\tlfunc.ParametersToWrite = []\n",
      "\tlfunc.ParamDict = {}\n",
      "\t\n",
      "\tlfunc.addPNoise(Fit = True, write=True)\n",
      "\tlfunc.addPAmps(Fit = True, Dense=False, write=True)\n",
      "\tlfunc.addPhase(Fit = True, ML=ML[offset+0])\n",
      "\tlfunc.addLinearTM(Fit = True, ML=ML[offset+1:offset+1+lfunc.numTime])\n",
      "\tlfunc.addProfile(Fit = True, ML = ML[offset+1+lfunc.numTime:offset+1+lfunc.numTime+(lfunc.TotCoeff-1)*(lfunc.EvoNPoly+1)])\n",
      "\t\n",
      "\t\n",
      "\tlfunc.n_params=len(lfunc.parameters)\n",
      "\tlfunc.MeanPhase = ML[offset+0]\n",
      "\tlfunc.PhasePrior = 1e-1\n",
      "\tlfunc.startPoint, lfunc.EigV, lfunc.EigM, lfunc.hess = lfunc.calculateGHSHessian(diagonalGHS=False)\n",
      "\t\n",
      "\t\n",
      "\tlfunc.root='./results/Example1-burn-'\n",
      "\tif(lfunc.DiagParams < lfunc.n_params):\n",
      "\t\tDenseParams = lfunc.startPoint[lfunc.DiagParams:]\n",
      "\t\tPrincipleParams = np.dot(lfunc.EigM.T, DenseParams)\n",
      "\t\tlfunc.startPoint[lfunc.DiagParams:] = PrincipleParams\n",
      "\t\t\n",
      "\tlfunc.callGHS(resume=False, nburn = 100, nsamp = 2000, feedback_int = 100, seed = -1, max_steps = 10, dim_scale_fact = 0.4)\n"
     ],
     "language": "python",
     "metadata": {},
     "outputs": []
    },
    {
     "cell_type": "markdown",
     "metadata": {},
     "source": [
      "#Perform the Actual Sampling\n",
      "\n",
      "We now perform the actual samping.  As we will be collecting far more points we no longer write the profile noise/amplitudes to file.  We also set 'dense = True' for the profile amplitudes, so they are included in the dense part of the hessian."
     ]
    },
    {
     "cell_type": "code",
     "collapsed": false,
     "input": [
      "chains=np.loadtxt('./results/Example1-burn-extract.dat').T\n",
      "ML = chains.T[-10:][np.argmax(chains[-1][-10:])][:-1]\n",
      "\t\n",
      "offset= 2*lfunc.NToAs\n",
      "lfunc.DenseParams = 0\t\n",
      "lfunc.DiagParams = 0\n",
      "lfunc.LinearParams = 0\n",
      "lfunc.MLParameters = []\n",
      "lfunc.parameters = []\n",
      "lfunc.ParametersToWrite = []\n",
      "lfunc.ParamDict = {}\n",
      "\n",
      "lfunc.addPNoise(Fit = True, write=False)\n",
      "lfunc.addPAmps(Fit = True, Dense=True, write=False)\n",
      "lfunc.addPhase(Fit = True, ML=ML[offset+0])\n",
      "lfunc.addLinearTM(Fit = True, ML=ML[offset+1:offset+1+lfunc.numTime])\n",
      "lfunc.addProfile(Fit = True, ML = ML[offset+1+lfunc.numTime:offset+1+lfunc.numTime+(lfunc.TotCoeff-1)*(lfunc.EvoNPoly+1)])\n",
      "\n",
      "\n",
      "#lfunc.addECORR(FitSignal = True, FitPrior = True, MLSignal = ECSignal, MLPrior = MEP, mode='flag', flag = 'B', model = np.array([-1,-1, 1]), writeSignal=True, writePrior=True)\n",
      "\n",
      "\n",
      "lfunc.n_params=len(lfunc.parameters)\n",
      "lfunc.MeanPhase = ML[offset+0]\n",
      "lfunc.PhasePrior = 1e-1\n",
      "lfunc.startPoint, lfunc.EigV, lfunc.EigM, lfunc.hess = lfunc.calculateGHSHessian(diagonalGHS=False)\n",
      "\n",
      "\n",
      "lfunc.root='./results/Example1-burnt-'\n",
      "if(lfunc.DiagParams < lfunc.n_params):\n",
      "\tDenseParams = lfunc.startPoint[lfunc.DiagParams:]\n",
      "\tPrincipleParams = np.dot(lfunc.EigM.T, DenseParams)\n",
      "\tlfunc.startPoint[lfunc.DiagParams:] = PrincipleParams\n",
      "\t\n",
      "lfunc.callGHS(resume=False, nburn = 100, nsamp = 20000, feedback_int = 100, seed = -1, max_steps = 10, dim_scale_fact = 0.4)\n"
     ],
     "language": "python",
     "metadata": {},
     "outputs": []
    },
    {
     "cell_type": "markdown",
     "metadata": {},
     "source": [
      "#Plot the Results\n",
      "\n",
      "We can load the chains into python and plot posterior distributions for the timing model parameters."
     ]
    },
    {
     "cell_type": "code",
     "collapsed": false,
     "input": [
      "chains=np.loadtxt(lfunc.root+'extract.dat').T\n",
      "\n",
      "\n",
      "import corner as corner\n",
      "\n",
      "if(lfunc.numTime > 0):\n",
      "        startindex=lfunc.ParamDict['LinearTM'][3]\n",
      "        startindex=lfunc.ParamDict['LinearTM'][4]\n",
      "        Tchains = chains[startindex:stopindex]\n",
      "        figure = corner.corner(Tchains.T, labels=[r\"$RA$\", r\"$DEC$\", r\"$F0$\", r\"$F1$\", r\"$DM$\"],\n",
      "                               quantiles=[0.16, 0.5, 0.84],\n",
      "                               show_titles=True, title_kwargs={\"fontsize\": 12})\n",
      "\n"
     ],
     "language": "python",
     "metadata": {},
     "outputs": []
    },
    {
     "cell_type": "markdown",
     "metadata": {},
     "source": [
      "#Simulate Profile Data\n",
      "\n",
      "We can also simulate profile data using the maximum likelihood (or any other) model for the data.  As we didnt save the chains for the amplitudes and profile noise levels we need to calculate those given the other parameters in the model (calcAmps = True, calcNoise = True).  In this case we add the profile noise to the data (addNoise = True), however you can output noiseless profiles if you just want to look at the impact of e.g a particular scattering model."
     ]
    },
    {
     "cell_type": "code",
     "collapsed": false,
     "input": [
      "lfunc.SimArchives(ML, addNoise = True, outDir=\"./SimProfs\", calcAmps=True, calcNoise=True)"
     ],
     "language": "python",
     "metadata": {},
     "outputs": []
    }
   ],
   "metadata": {}
  }
 ]
}