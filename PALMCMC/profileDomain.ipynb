{
 "cells": [
  {
   "cell_type": "code",
   "execution_count": 5,
   "metadata": {
    "collapsed": false
   },
   "outputs": [
    {
     "ename": "ImportError",
     "evalue": "No module named psrchive",
     "output_type": "error",
     "traceback": [
      "\u001b[0;31m---------------------------------------------------------------------------\u001b[0m",
      "\u001b[0;31mImportError\u001b[0m                               Traceback (most recent call last)",
      "\u001b[0;32m<ipython-input-5-112d1a281316>\u001b[0m in \u001b[0;36m<module>\u001b[0;34m()\u001b[0m\n\u001b[1;32m     14\u001b[0m \u001b[0mmatplotlib\u001b[0m\u001b[0;34m.\u001b[0m\u001b[0mrcParams\u001b[0m\u001b[0;34m[\u001b[0m\u001b[0;34m'savefig.dpi'\u001b[0m\u001b[0;34m]\u001b[0m \u001b[0;34m=\u001b[0m \u001b[0;36m1.5\u001b[0m \u001b[0;34m*\u001b[0m \u001b[0mmatplotlib\u001b[0m\u001b[0;34m.\u001b[0m\u001b[0mrcParams\u001b[0m\u001b[0;34m[\u001b[0m\u001b[0;34m'savefig.dpi'\u001b[0m\u001b[0;34m]\u001b[0m\u001b[0;34m\u001b[0m\u001b[0m\n\u001b[1;32m     15\u001b[0m \u001b[0;34m\u001b[0m\u001b[0m\n\u001b[0;32m---> 16\u001b[0;31m \u001b[0;32mimport\u001b[0m \u001b[0mpsrchive\u001b[0m\u001b[0;34m\u001b[0m\u001b[0m\n\u001b[0m\u001b[1;32m     17\u001b[0m \u001b[0;32mfrom\u001b[0m \u001b[0mlibstempo\u001b[0m\u001b[0;34m.\u001b[0m\u001b[0mlibstempo\u001b[0m \u001b[0;32mimport\u001b[0m \u001b[0;34m*\u001b[0m\u001b[0;34m\u001b[0m\u001b[0m\n\u001b[1;32m     18\u001b[0m \u001b[0;32mimport\u001b[0m \u001b[0mlibstempo\u001b[0m \u001b[0;32mas\u001b[0m \u001b[0mT\u001b[0m\u001b[0;34m\u001b[0m\u001b[0m\n",
      "\u001b[0;31mImportError\u001b[0m: No module named psrchive"
     ]
    }
   ],
   "source": [
    "# %load ProfileDomain.py\n",
    "\n",
    "%matplotlib inline\n",
    "%config InlineBackend.figure_format = 'retina'\n",
    "%load_ext autoreload\n",
    "%autoreload 2\n",
    "\n",
    "from __future__ import division\n",
    "import numpy as np\n",
    "from scipy.optimize import minimize\n",
    "\n",
    "import matplotlib\n",
    "import matplotlib.pyplot as plt\n",
    "matplotlib.rcParams['savefig.dpi'] = 1.5 * matplotlib.rcParams['savefig.dpi']\n",
    "\n",
    "import psrchive\n",
    "from libstempo.libstempo import *\n",
    "import libstempo as T\n",
    "\n",
    "import corner as corner\n",
    "\n",
    "import PTMCMCSampler\n",
    "from PTMCMCSampler import PTMCMCSampler as ptmcmc\n",
    "\n",
    "from Class import *"
   ]
  },
  {
   "cell_type": "code",
   "execution_count": null,
   "metadata": {
    "collapsed": false
   },
   "outputs": [],
   "source": [
    "stylefilepath = os.getcwd().split('PALMCMC')[0]+'latex_stylefiles'\n",
    "print stylefilepath"
   ]
  },
  {
   "cell_type": "code",
   "execution_count": null,
   "metadata": {
    "collapsed": false
   },
   "outputs": [],
   "source": [
    "plt.rcParams.update(plt.rcParamsDefault)\n",
    "params = {'backend': 'pdf',\n",
    "        'axes.labelsize': 10,\n",
    "        'lines.markersize': 4,\n",
    "        'font.size': 10,\n",
    "        'xtick.major.size':6,\n",
    "        'xtick.minor.size':3,  \n",
    "        'ytick.major.size':6,\n",
    "        'ytick.minor.size':3, \n",
    "        'xtick.major.width':0.5,\n",
    "        'ytick.major.width':0.5,\n",
    "        'xtick.minor.width':0.5,\n",
    "        'ytick.minor.width':0.5,\n",
    "        'lines.markeredgewidth':1,\n",
    "        'axes.linewidth':1.2,\n",
    "        'legend.fontsize': 7,\n",
    "        'xtick.labelsize': 10,\n",
    "        'ytick.labelsize': 10,\n",
    "        'savefig.dpi':200,\n",
    "        'path.simplify':True,\n",
    "        'font.family': 'serif',\n",
    "        'font.serif':'Times',\n",
    "        'text.latex.preamble': [r'\\usepackage{amsmath}', \n",
    "                                r'\\usepackage{'+stylefilepath+'/apjfonts}'],\n",
    "        'text.usetex':True,\n",
    "        'axes.color_cycle': ['b', 'lime', 'r', 'purple', 'g', 'c', 'm', 'orange', 'darkblue', \\\n",
    "                                'darkcyan', 'y','orangered','chartreuse','brown','deeppink','lightgreen', 'k'],\n",
    "        #'font.serif':cm,\n",
    "        'figure.figsize': (3.39,2.1)}\n",
    "plt.rcParams.update(params)"
   ]
  },
  {
   "cell_type": "code",
   "execution_count": null,
   "metadata": {
    "collapsed": false
   },
   "outputs": [],
   "source": [
    "lfunc = Likelihood()\n",
    "lfunc.loadPulsar(\"OneChan.par\", \"OneChan.tim\", root='Sim1-OneChan')"
   ]
  },
  {
   "cell_type": "markdown",
   "metadata": {},
   "source": [
    "## Get initial Fit to the Profile"
   ]
  },
  {
   "cell_type": "code",
   "execution_count": null,
   "metadata": {
    "collapsed": false
   },
   "outputs": [],
   "source": [
    "lfunc.TScrunch(doplot = True, channels = 1)\n",
    "\n",
    "lfunc.getInitialParams(MaxCoeff = 20, cov_diag=[0.01, 0.1, 0.1], \n",
    "                       resume=True, outDir = './InitFFTMNChains/Max20-', \n",
    "                       sampler='multinest', incScattering = False, \n",
    "                       mn_live = 1000,  fitNComps = 1, doplot = True)"
   ]
  },
  {
   "cell_type": "markdown",
   "metadata": {},
   "source": [
    "## Make interpolation Matrix"
   ]
  },
  {
   "cell_type": "code",
   "execution_count": null,
   "metadata": {
    "collapsed": false
   },
   "outputs": [],
   "source": [
    "lfunc.PreComputeFFTShapelets(interpTime = 1, MeanBeta = lfunc.MeanBeta, doplot=True)\n",
    "lfunc.getInitialPhase(doplot = True)\n",
    "lfunc.ScatterInfo = lfunc.GetScatteringParams(mode = 'parfile')"
   ]
  },
  {
   "cell_type": "markdown",
   "metadata": {},
   "source": [
    "## Define parameter list and sampling ranges"
   ]
  },
  {
   "cell_type": "code",
   "execution_count": null,
   "metadata": {
    "collapsed": false
   },
   "outputs": [],
   "source": [
    "parameters = []\n",
    "parameters.append('Phase')\n",
    "for ii in range(lfunc.TotCoeff-1):\n",
    "    for jj in range(lfunc.EvoNPoly+1):\n",
    "        parameters.append('S'+str(ii+1)+'E'+str(jj))\n",
    "for ii in range(lfunc.numTime):\n",
    "    parameters.append(lfunc.psr.pars()[ii])\n",
    "for ii in range(lfunc.NScatterEpochs):\n",
    "    parameters.append(\"Scatter_\"+str(ii))\n",
    "\n",
    "\n",
    "print parameters\n",
    "n_params = len(parameters)\n",
    "print n_params\n",
    "lfunc.n_params = n_params\n",
    "    \n",
    "pmin = np.array(np.ones(n_params))*-100\n",
    "pmax = np.array(np.ones(n_params))*100\n",
    "\n",
    "for i in range(lfunc.NScatterEpochs):\n",
    "    pmin[-lfunc.NScatterEpochs+i] = -6\n",
    "    pmax[-lfunc.NScatterEpochs+i] = 1\n",
    "\n",
    "lfunc.pmin = pmin\n",
    "lfunc.pmax = pmax"
   ]
  },
  {
   "cell_type": "markdown",
   "metadata": {},
   "source": [
    "## Define starting point for sampling"
   ]
  },
  {
   "cell_type": "code",
   "execution_count": null,
   "metadata": {
    "collapsed": true
   },
   "outputs": [],
   "source": [
    "x0 = np.array(np.zeros(n_params))\n",
    "\n",
    "pcount = 0\n",
    "x0[pcount] = lfunc.MeanPhase\n",
    "pcount += 1\n",
    "\n",
    "for i in range(lfunc.TotCoeff-1):\n",
    "    for j in range(lfunc.EvoNPoly+1):\n",
    "        x0[pcount] = lfunc.MLShapeCoeff[1+i][j]\n",
    "        pcount += 1\n",
    "\n",
    "\n",
    "for ii in range(lfunc.numTime):\n",
    "    x0[pcount+ii] = 0\n",
    "pcount += lfunc.numTime\n",
    "for ii in range(lfunc.NScatterEpochs):\n",
    "    x0[pcount+ii] = lfunc.MeanScatter\n",
    "pcount += lfunc.NScatterEpochs"
   ]
  },
  {
   "cell_type": "code",
   "execution_count": null,
   "metadata": {
    "collapsed": false
   },
   "outputs": [],
   "source": [
    "lfunc.calculateFFTHessian(x0)\n",
    "covM = np.linalg.inv(lfunc.hess)\n",
    "lfunc.PhasePrior = np.sqrt(covM[0,0]) * lfunc.ReferencePeriod\n",
    "lfunc.MeanPhase = x0[0] * lfunc.ReferencePeriod"
   ]
  },
  {
   "cell_type": "code",
   "execution_count": null,
   "metadata": {
    "collapsed": false
   },
   "outputs": [],
   "source": [
    "lfunc.doplot = False\n",
    "burnin=1000\n",
    "sampler = ptmcmc.PTSampler(ndim=n_params, logl=lfunc.FFTMarginLogLike, logp=lfunc.my_prior,\n",
    "                            cov=covM, outDir='./Chains/',resume=False)\n",
    "sampler.sample(p0=x0, Niter=20000, isave=10, \n",
    "               burn=burnin, thin=1, neff=1000)"
   ]
  },
  {
   "cell_type": "markdown",
   "metadata": {},
   "source": [
    "## Load MCMC chain"
   ]
  },
  {
   "cell_type": "code",
   "execution_count": null,
   "metadata": {
    "collapsed": true
   },
   "outputs": [],
   "source": [
    "chains = np.loadtxt('./Chains/chain_1.txt').T"
   ]
  },
  {
   "cell_type": "markdown",
   "metadata": {},
   "source": [
    "## Make a plot"
   ]
  },
  {
   "cell_type": "code",
   "execution_count": null,
   "metadata": {
    "collapsed": false
   },
   "outputs": [],
   "source": [
    "chains = chains[:,burnin:]\n",
    "if(lfunc.numTime > 0):\n",
    "    Tchains = chains[1+lfunc.TotCoeff-1:1+lfunc.TotCoeff-1 + lfunc.numTime]\n",
    "    figure = corner.corner(Tchains.T, labels=[r\"$RA$\", r\"$DEC$\", r\"$F0$\", r\"$F1$\"],\n",
    "                       quantiles=[0.16, 0.5, 0.84],\n",
    "                       show_titles=True, title_kwargs={\"fontsize\": 12})\n",
    "\n",
    "ML = chains.T[np.argmax(chains[-3])][:n_params]\n",
    "lfunc.WaterFallPlot(ML)"
   ]
  }
 ],
 "metadata": {
  "kernelspec": {
   "display_name": "Python 2",
   "language": "python",
   "name": "python2"
  },
  "language_info": {
   "codemirror_mode": {
    "name": "ipython",
    "version": 2
   },
   "file_extension": ".py",
   "mimetype": "text/x-python",
   "name": "python",
   "nbconvert_exporter": "python",
   "pygments_lexer": "ipython2",
   "version": "2.7.12"
  }
 },
 "nbformat": 4,
 "nbformat_minor": 0
}
