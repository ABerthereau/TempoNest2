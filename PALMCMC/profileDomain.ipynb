{
 "cells": [
  {
   "cell_type": "code",
   "execution_count": null,
   "metadata": {
    "collapsed": false
   },
   "outputs": [],
   "source": [
    "# %load ProfileDomain.py\n",
    "\n",
    "%matplotlib inline\n",
    "%config InlineBackend.figure_format = 'retina'\n",
    "%load_ext autoreload\n",
    "%autoreload 2\n",
    "\n",
    "from __future__ import division\n",
    "import numpy as np\n",
    "from scipy.optimize import minimize\n",
    "\n",
    "import matplotlib\n",
    "import matplotlib.pyplot as plt\n",
    "matplotlib.rcParams['savefig.dpi'] = 1.5 * matplotlib.rcParams['savefig.dpi']\n",
    "\n",
    "import psrchive\n",
    "from libstempo.libstempo import *\n",
    "import libstempo as T\n",
    "\n",
    "import corner as corner\n",
    "\n",
    "import PTMCMCSampler\n",
    "from PTMCMCSampler import PTMCMCSampler as ptmcmc\n",
    "\n",
    "from Class import *"
   ]
  },
  {
   "cell_type": "code",
   "execution_count": null,
   "metadata": {
    "collapsed": false
   },
   "outputs": [],
   "source": [
    "lfunc = Likelihood()\n",
    "lfunc.loadPulsar(\"OneChan.par\", \"OneChan.tim\", root='Sim1-OneChan')"
   ]
  },
  {
   "cell_type": "markdown",
   "metadata": {},
   "source": [
    "## Get initial Fit to the Profile"
   ]
  },
  {
   "cell_type": "code",
   "execution_count": null,
   "metadata": {
    "collapsed": false
   },
   "outputs": [],
   "source": [
    "lfunc.TScrunch(doplot = True, channels = 1)\n",
    "\n",
    "lfunc.getInitialParams(MaxCoeff = 20, cov_diag=[0.01, 0.1, 0.1], \n",
    "                       resume=True, outDir = './InitFFTMNChains/Max20-', \n",
    "                       sampler='multinest', incScattering = False, \n",
    "                       mn_live = 1000,  fitNComps = 1, doplot = True)"
   ]
  },
  {
   "cell_type": "markdown",
   "metadata": {},
   "source": [
    "## Make interpolation Matrix"
   ]
  },
  {
   "cell_type": "code",
   "execution_count": null,
   "metadata": {
    "collapsed": false
   },
   "outputs": [],
   "source": [
    "lfunc.PreComputeFFTShapelets(interpTime = 1, MeanBeta = lfunc.MeanBeta, doplot=True)\n",
    "lfunc.getInitialPhase(doplot = True)\n",
    "lfunc.ScatterInfo = lfunc.GetScatteringParams(mode = 'parfile')"
   ]
  },
  {
   "cell_type": "markdown",
   "metadata": {},
   "source": [
    "## Define parameter list and sampling ranges"
   ]
  },
  {
   "cell_type": "code",
   "execution_count": null,
   "metadata": {
    "collapsed": false
   },
   "outputs": [],
   "source": [
    "parameters = []\n",
    "parameters.append('Phase')\n",
    "for i in range(lfunc.TotCoeff-1):\n",
    "\tfor j in range(lfunc.EvoNPoly+1):\n",
    "\t\tparameters.append('S'+str(i+1)+'E'+str(j))\n",
    "for i in range(lfunc.numTime):\n",
    "\tparameters.append(lfunc.psr.pars()[i])\n",
    "for i in range(lfunc.NScatterEpochs):\n",
    "\tparameters.append(\"Scatter_\"+str(i))\n",
    "\n",
    "\n",
    "print parameters\n",
    "n_params = len(parameters)\n",
    "print n_params\n",
    "lfunc.n_params = n_params\n",
    "    \n",
    "pmin = np.array(np.ones(n_params))*-100\n",
    "pmax = np.array(np.ones(n_params))*100\n",
    "\n",
    "for i in range(lfunc.NScatterEpochs):\n",
    "\tpmin[-lfunc.NScatterEpochs+i] = -6\n",
    "\tpmax[-lfunc.NScatterEpochs+i] = 1\n",
    "\n",
    "lfunc.pmin = pmin\n",
    "lfunc.pmax = pmax"
   ]
  },
  {
   "cell_type": "markdown",
   "metadata": {},
   "source": [
    "## Define starting point for sampling"
   ]
  },
  {
   "cell_type": "code",
   "execution_count": null,
   "metadata": {
    "collapsed": true
   },
   "outputs": [],
   "source": [
    "x0 = np.array(np.zeros(n_params))\n",
    "\n",
    "pcount = 0\n",
    "x0[pcount] = lfunc.MeanPhase\n",
    "pcount += 1\n",
    "\n",
    "for i in range(lfunc.TotCoeff-1):\n",
    "\tfor j in range(lfunc.EvoNPoly+1):\n",
    "\t\tx0[pcount] = lfunc.MLShapeCoeff[1+i][j]\n",
    "\t\tpcount += 1\n",
    "\n",
    "\n",
    "for i in range(lfunc.numTime):\n",
    "\tx0[pcount+i] = 0\n",
    "pcount += lfunc.numTime\n",
    "for i in range(lfunc.NScatterEpochs):\n",
    "\tx0[pcount+i] = lfunc.MeanScatter\n",
    "pcount += lfunc.NScatterEpochs"
   ]
  },
  {
   "cell_type": "code",
   "execution_count": null,
   "metadata": {
    "collapsed": true
   },
   "outputs": [],
   "source": [
    "lfunc.calculateFFTHessian(x0)\n",
    "covM=np.linalg.inv(lfunc.hess)\n",
    "lfunc.PhasePrior = np.sqrt(covM[0,0])*lfunc.ReferencePeriod\n",
    "lfunc.MeanPhase = x0[0]*lfunc.ReferencePeriod"
   ]
  },
  {
   "cell_type": "code",
   "execution_count": null,
   "metadata": {
    "collapsed": false
   },
   "outputs": [],
   "source": [
    "lfunc.doplot=False\n",
    "burnin=1000\n",
    "sampler = ptmcmc.PTSampler(ndim=n_params,logl=lfunc.FFTMarginLogLike,logp=lfunc.my_prior,\n",
    "                            cov=covM, outDir='./Chains/',resume=False)\n",
    "sampler.sample(p0=x0,Niter=20000,isave=10,burn=burnin,thin=1,neff=1000)"
   ]
  },
  {
   "cell_type": "markdown",
   "metadata": {},
   "source": [
    "## Load MCMC chain"
   ]
  },
  {
   "cell_type": "code",
   "execution_count": null,
   "metadata": {
    "collapsed": true
   },
   "outputs": [],
   "source": [
    "chains = np.loadtxt('./Chains/chain_1.txt').T"
   ]
  },
  {
   "cell_type": "markdown",
   "metadata": {},
   "source": [
    "## Make a plot"
   ]
  },
  {
   "cell_type": "code",
   "execution_count": null,
   "metadata": {
    "collapsed": false
   },
   "outputs": [],
   "source": [
    "chains = chains[:,burnin:]\n",
    "if(lfunc.numTime > 0):\n",
    "\tTchains = chains[1+lfunc.TotCoeff-1:1+lfunc.TotCoeff-1 + lfunc.numTime]\n",
    "\tfigure = corner.corner(Tchains.T, labels=[r\"$RA$\", r\"$DEC$\", r\"$F0$\", r\"$F1$\"],\n",
    "\t\t               quantiles=[0.16, 0.5, 0.84],\n",
    "\t\t               show_titles=True, title_kwargs={\"fontsize\": 12})\n",
    "\n",
    "ML = chains.T[np.argmax(chains[-3])][:n_params]\n",
    "lfunc.WaterFallPlot(ML)"
   ]
  },
  {
   "cell_type": "code",
   "execution_count": null,
   "metadata": {
    "collapsed": true
   },
   "outputs": [],
   "source": []
  }
 ],
 "metadata": {
  "kernelspec": {
   "display_name": "Python 2",
   "language": "python",
   "name": "python2"
  },
  "language_info": {
   "codemirror_mode": {
    "name": "ipython",
    "version": 2
   },
   "file_extension": ".py",
   "mimetype": "text/x-python",
   "name": "python",
   "nbconvert_exporter": "python",
   "pygments_lexer": "ipython2",
   "version": "2.7.11"
  }
 },
 "nbformat": 4,
 "nbformat_minor": 0
}
